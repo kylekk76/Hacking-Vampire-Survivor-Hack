{
 "cells": [
  {
   "cell_type": "markdown",
   "id": "11aac36f",
   "metadata": {},
   "source": [
    "# Vampire Survivor VS Python."
   ]
  },
  {
   "cell_type": "markdown",
   "id": "31e27594",
   "metadata": {},
   "source": [
    "So, this wee proyect is basically to practice regex:\n",
    "\n",
    "- **main.bundle.js** normally you can find it in \"C:\\Program Files (x86)\\Steam\\steamapps\\common\\Vampire                           Survivors\\resources\\app\\.webpack\\renderer\\main.bundle.js\"\n",
    "- **SaveData.sav** This can be in diferent paths depends of the version and the computer, normally gonna be inside of %appdata%\n",
    "\n",
    "if you have troubles to find it, that i did is to look for archives that was changed as soon as i close the game, should appear then the .sav that you need to modify and the folder where you need to replace the file.\n",
    "\n",
    "- To run this jupyter notebook you gonna need have the libraries that we use installed, this can be with !pip install pandas\n",
    "- You need to run the starting section.\n",
    "- You can the choise which section you are interested and run that section to modify your game.\n",
    "\n"
   ]
  },
  {
   "cell_type": "markdown",
   "id": "33ac3446",
   "metadata": {},
   "source": [
    "## Starting.\n",
    "**Run this section to start**\n",
    "You should not need to modify here anything."
   ]
  },
  {
   "cell_type": "code",
   "execution_count": 1,
   "id": "a26fc1d1",
   "metadata": {},
   "outputs": [],
   "source": [
    "#This are the libraries we gonna use for the proyect, maybe in a future we need to add few more\n",
    "\n",
    "import pandas as pd\n",
    "import re\n",
    "import hashlib"
   ]
  },
  {
   "cell_type": "code",
   "execution_count": 45,
   "id": "2610c0ff",
   "metadata": {},
   "outputs": [],
   "source": [
    "#This handle and read the files that we gonna use\n",
    "fileMain= open(\"main.bundle.js\",\"r\",encoding=\"utf8\")\n",
    "f=fileMain.read()\n",
    "fileData= open(\"SaveData.sav\",\"r\")\n",
    "fd=fileData.read()"
   ]
  },
  {
   "cell_type": "markdown",
   "id": "f54a081d",
   "metadata": {},
   "source": [
    "## Modifying The Heros Stats:\n",
    "\n",
    "So we created a function to change the stats of diferent heros, by modify the variable super_hero to later when we call the function change_stats(\"\"):\n",
    "\n",
    "**This work by introducing the super_hero stats in the place where is our Champion, in this case as a trial we choose poe.**\n",
    "\n",
    "- First of all explain that this stats are showing in Hex so that you need to modify it's after the 0x\n",
    "- Second as i say before is Hex and not decimal, so you gonna need a calculator if you wanna know what exact number you gonna     introduce there, but also you can eyeball it.\n",
    "- Third if you change anything in a character remember always that for change it again you gonna need to use again a clean file, \n",
    "  this is a bit logical as what we are doing its find the stats of poe and modify them, if you already have change them, not       gonna be the same that we are expecting. So to evade errors i let this as you need to use always a new file.\n",
    "  \n",
    "**The next section is a list of names, probably you dont have all the characters yet, but we will go to it**\n",
    "\n"
   ]
  },
  {
   "cell_type": "code",
   "execution_count": 43,
   "id": "0659b41d",
   "metadata": {
    "scrolled": true
   },
   "outputs": [],
   "source": [
    "#re.findall(r\"\\'charName\\':\\'([A-Za-z]*\\s*[A-Za-z]*|O\\\\'Sole)(?:.{990})\",f) #list of names"
   ]
  },
  {
   "cell_type": "markdown",
   "id": "b5227c13",
   "metadata": {},
   "source": [
    "**The stats are already set up for Poe to be stronger but not overpower**<br>\n",
    "*Any changes here need affect to the main.bundle.js*"
   ]
  },
  {
   "cell_type": "code",
   "execution_count": 50,
   "id": "e4821600",
   "metadata": {},
   "outputs": [
    {
     "name": "stdout",
     "output_type": "stream",
     "text": [
      "we have 38 Champions Stats\n",
      "we have 38 Champions Names\n",
      "Done!\n"
     ]
    }
   ],
   "source": [
    "def change_stats(name,f=f):\n",
    "\n",
    "    dit={}\n",
    "    \n",
    "    ChampionStats=re.findall(r\"(?:\\'completedStages\\':\\[\\])(.{800})\",f) #fetching for the stats\n",
    "    ChampionNames=re.findall(r\"\\'charName\\':\\'([A-Za-z]*\\s*[A-Za-z]*|O\\\\'Sole)(?:.{990})\",f) #searching for names\n",
    "\n",
    "    print(f\"we have {len(ChampionStats)} Champions Stats\")\n",
    "    #print(ChampionStats)\n",
    "    print(f\"we have {len(ChampionNames)} Champions Names\")\n",
    "    #print(ChampionNames)\n",
    "    \n",
    "    # we clean a bit the dirty data we had.\n",
    "    for n,champ in enumerate(ChampionStats):\n",
    "        ChampionStats[n]=ChampionStats[n][ChampionStats[n].index(\"maxHp\"):ChampionStats[n].index(\"'banish'\")+12]\n",
    "   \n",
    "    # We introduce the data to the dict using zip and a loop.\n",
    "    for name,champs in zip(ChampionNames,ChampionStats):\n",
    "        dit[name]=champs\n",
    "    #you can change the values manual here to add to the hero that you like\n",
    "    Super_Hero={\"hero\":\"maxHp':0x299,'armor':0x10,'regen':0x0,'moveSpeed':0x3,'power':0x1,'cooldown':0x1,'area':0x5,'speed':0x1,'duration':0x1,'amount':0x0,'luck':0x10,'growth':0x5,'greed':0x1,'curse':0x1,'magnet':0x5,'revivals':0x0,'rerolls':0x0,'skips':0x0,'banish':0x0\"}\n",
    "    rplace= f.replace(dit[name], Super_Hero[\"hero\"])\n",
    "    dit.update({name:Super_Hero[\"hero\"]})\n",
    "    return rplace\n",
    "\n",
    "#Change the name here and run the comand you will have your champ with modify stats in your new file\n",
    "f=change_stats(\"Poe\")\n",
    "print(\"Done!\")"
   ]
  },
  {
   "cell_type": "markdown",
   "id": "66420f17",
   "metadata": {},
   "source": [
    "**This is the BOSS_XLDEATH, normally i would let the stats as they are, as we dont want a game too easy.** (not finished)\n",
    "\n",
    "* Run it if you want to swap the life, hp or whatever, his stats is multipy by 10 by your level, also as you can see they are     writed in Hex.\n",
    "\n",
    "* If you want to modify anything change the number after 0x in the *modify_Stats_XLDEATH* for a smaller or biger number in Hex."
   ]
  },
  {
   "cell_type": "code",
   "execution_count": 7,
   "id": "c3ce7f44",
   "metadata": {},
   "outputs": [
    {
     "name": "stdout",
     "output_type": "stream",
     "text": [
      "done\n"
     ]
    }
   ],
   "source": [
    "modify_Stats_XLDEATH=[\"BOSS_XLDEATH']]:[{'level':0x64,'maxHp':0x1,'speed':0x4b0,'power':0x1,'skills\",\n",
    "                      \"BOSS_XLDEATH2']]:[{'level':0x64,'maxHp':0x1,'speed':0x4b0,'power':0x1,'skill\"]\n",
    "\n",
    "stats_XLDEATH=re.findall(\"BOSS_XLDEATH.{70}\",f)[2:4]\n",
    "\n",
    "f=f.replace(stats_XLDEATH[0],modify_Stats_XLDEATH[0])\n",
    "f=f.replace(stats_XLDEATH[1],modify_Stats_XLDEATH[1])\n",
    "\n",
    "if f.find(modify_Stats_XLDEATH[0])!= 0:\n",
    "       print(\"done\")\n"
   ]
  },
  {
   "cell_type": "markdown",
   "id": "f2d1c6c6",
   "metadata": {},
   "source": [
    "## Unlock Characters and Items"
   ]
  },
  {
   "cell_type": "markdown",
   "id": "ab4ce28c",
   "metadata": {},
   "source": [
    "This section is not ready yet"
   ]
  },
  {
   "cell_type": "markdown",
   "id": "44d2d413",
   "metadata": {},
   "source": [
    "## Gold\n",
    "Run this section if you want to add gold to your account, is not really needed as you can just change the stat greed in any of the champions but... sounded usefull.\n",
    "\n",
    "*Any changes here need affect to the DataSave.sav*"
   ]
  },
  {
   "cell_type": "code",
   "execution_count": 8,
   "id": "667c170a",
   "metadata": {},
   "outputs": [
    {
     "name": "stdout",
     "output_type": "stream",
     "text": [
      "New expend gold: 147299\n",
      "New Life Time Gold: 71828\n",
      "New Total Gold: 78828\n"
     ]
    }
   ],
   "source": [
    "newgold=5000 # introduce the ammount of gold you want to add to your account\n",
    "\n",
    "#this section find the amounts in the file\n",
    "Coins=re.findall(\"\\\"Coin..:(\\d*)\\.*\\d*\",fd)[0] \n",
    "LifeTimeCoins=re.findall(\"LifetimeCoins\\\":(\\d*)\",fd)[0]\n",
    "TotalCoins=re.findall(\"TotalCoins\\\":(\\d*)\",fd)[0]\n",
    "\n",
    "#This section add the ammount to your actual values\n",
    "CoinsGold=str(int(Coins)+int(newgold)) # for calculate the new gold\n",
    "LifeGold=str(int(LifeTimeCoins)+int(newgold))\n",
    "TotalGold=str(int(TotalCoins)+int(newgold))\n",
    "\n",
    "#This section replace the old values for the new ones\n",
    "fd=fd.replace(Coins,CoinsGold)\n",
    "fd=fd.replace(LifeTimeCoins,LifeGold)\n",
    "fd=fd.replace(TotalCoins,TotalGold)\n",
    "\n",
    "#This last section its to double check everything was allright\n",
    "if re.findall(\"LifetimeCoins\\\":(\\d*)\",fd)[0]==LifeGold and re.findall(\"TotalCoins\\\":(\\d*)\",fd)[0]==TotalGold and re.findall(\"\\\"Coin..:(\\d*)\\.*\\d*\",fd)[0]==CoinsGold: \n",
    "    print(\"New expend gold: {}\\nNew Life Time Gold: {}\\nNew Total Gold: {}\".format(re.findall(\"\\\"Coin..:(\\d*)\\.*\\d*\",fd)[0],re.findall(\"LifetimeCoins\\\":(\\d*)\",fd)[0],re.findall(\"TotalCoins\\\":(\\d*)\",fd)[0]))"
   ]
  },
  {
   "cell_type": "markdown",
   "id": "61b50fe6",
   "metadata": {},
   "source": [
    "## Items\n"
   ]
  },
  {
   "cell_type": "markdown",
   "id": "788869ec",
   "metadata": {},
   "source": [
    "This section is not ready dont run it yet, or the game will not crash"
   ]
  },
  {
   "cell_type": "code",
   "execution_count": 9,
   "id": "6ea6e50d",
   "metadata": {
    "scrolled": true
   },
   "outputs": [],
   "source": [
    "#re.findall(\".{30}\\]=0x6,.{30}\",f)\n",
    "#['SurvivedSeconds'] >= \n",
    "\n",
    "#f=re.sub(r\"this\\[\\'maxTrueWeapons\\'\\]=0x6,this\\[\\'maxPowerUpWeapons\\'\\]=0x6\",\n",
    "#         \"this\\[\\'maxTrueWeapons\\'\\]=0x12,this\\[\\'maxPowerUpWeapons\\'\\]=0x12\",f)\n",
    "\n",
    "#if len(re.findall(r\"this\\[\\'maxTrueWeapons\\'\\]=0x6,this\\[\\'maxPowerUpWeapons\\'\\]=0x6\",f))==0:\n",
    "#    print(\"done\")\n"
   ]
  },
  {
   "cell_type": "code",
   "execution_count": 10,
   "id": "07c7225a",
   "metadata": {},
   "outputs": [],
   "source": [
    "#change_limit_time_to_evolve_items=\"=0x0&&this['UnlockAchievement\"\n",
    "#actual_time_limit=re.findall(\".{3}258&&this\\[\\'UnlockAchievement\",f)[0]\n",
    "\n",
    "#f=f.replace(actual_time_limit,change_limit_time_to_evolve_items)\n",
    "\n",
    "#re.findall(\".{3}258&&this\\[\\'UnlockAchievement\",f)"
   ]
  },
  {
   "cell_type": "markdown",
   "id": "05fd1e9e",
   "metadata": {},
   "source": [
    "## Tools for this section to find stuff (you dont need this):"
   ]
  },
  {
   "cell_type": "code",
   "execution_count": 11,
   "id": "181125e7",
   "metadata": {},
   "outputs": [
    {
     "data": {
      "text/plain": [
       "567072"
      ]
     },
     "execution_count": 11,
     "metadata": {},
     "output_type": "execute_result"
    }
   ],
   "source": [
    "f.find(\"this['UnlockAchievement']\") "
   ]
  },
  {
   "cell_type": "code",
   "execution_count": 12,
   "id": "882be702",
   "metadata": {},
   "outputs": [
    {
     "data": {
      "text/plain": [
       "[\"Poe','surname':'Ratcho','spriteName':'newOld3_01.png','textureName':'characters','walkingFrames':0x4,'description':'Permanent +25% pickup radius and -30 max health.','portraitName':'p_poe.png','isBought':!0x1,'price':0x1f4,'completedStages':[],'skins':[{'name':'Default','textureName':'characters','spriteName':'newOld3_01.png','walkingFrames':0x4,'unlocked':!0x0},{'name':'Legacy','textureName':'characters','spriteName':'Old3_01.png','walkingFrames':0x5,'unlocked':!0x0}],'currentSkinIndex':0x0,'maxHp':0x299,'armor':0x10,'regen':0x0,'moveSpeed':0x3,'power':0x1,'cooldown':0x1,'area':0x5,'speed':0x1,'duration':0x1,'amount':0x0,'luck':0x10,'growth':0x5,'greed':0x1,'curse':0x1,'magnet':0x5,'revivals':0x0,'rerolls':0x0,'skips':0x0,'banish':0x0,'showcase':[_0x44911c[_0x20e059(0xb02)]['GARLIC'],_0x44911c['default'][_0x20e059(0xa26)],_0x44911c[_0x20e059(0xb02)][_0x20e059(0xa26)],_0x44911c['default']['GARLIC'],_0x44911c[_0x20e059(0xb02)]['GARLIC'],_0x44911c['default']['GARLIC'],_0x44911c[_0x20e059(0x\"]"
      ]
     },
     "execution_count": 12,
     "metadata": {},
     "output_type": "execute_result"
    }
   ],
   "source": [
    "re.findall(\"Poe.{1000}\",f)"
   ]
  },
  {
   "cell_type": "markdown",
   "id": "e4f6118c",
   "metadata": {},
   "source": [
    "## Encode in sha256\n",
    "\n",
    "**This is very important if you modify the .sav data (\"fd\" file)**\n",
    "- This part of the program empty the check sum and remplace with a new one.\n",
    "- Always before to storage the new .sav file, be sure to run this part of the code or it will give you an error"
   ]
  },
  {
   "cell_type": "code",
   "execution_count": 13,
   "id": "c10412eb",
   "metadata": {},
   "outputs": [
    {
     "name": "stdout",
     "output_type": "stream",
     "text": [
      "* Checksum now empty\n",
      "* New code hex created\n",
      "* Finded the placement for the new data\n",
      "* Replaced the empty space with the new hex code\n",
      "Done!\n"
     ]
    }
   ],
   "source": [
    "fd=fd.replace(re.findall(\"checksum\\\":\\\"([a-z0-9]*)\",fd)[0],\"\")\n",
    "print(\"* Checksum now empty\")\n",
    "code=hashlib.sha256(fd.encode(\"utf-8\")).hexdigest()\n",
    "print(\"* New code hex created\")\n",
    "Sum=re.findall(\"checksum\\\":\\\"[a-z0-9]*\",fd)\n",
    "print(\"* Finded the placement for the new data\")\n",
    "fd=fd.replace(re.findall(\"checksum\\\":\\\"[a-z0-9]*\",fd)[0],Sum[0]+code)\n",
    "print(\"* Replaced the empty space with the new hex code\")\n",
    "if re.findall(\"checksum\\\":\\\"([a-z0-9]*)\",fd)[0]==code:\n",
    "    print(\"Done!\")"
   ]
  },
  {
   "cell_type": "markdown",
   "id": "80969d29",
   "metadata": {},
   "source": [
    "## Storage"
   ]
  },
  {
   "cell_type": "markdown",
   "id": "4541da23",
   "metadata": {},
   "source": [
    "**In this case my plan is simple, i have always a clean file in the folder to read it, and a file that come out with the modification, so if i destroy anything i can just create a new file or use the oldone.**\n",
    "\n",
    "As you can see is same name, and encoding, the way to use is, whenever you run this last code, you gonna create a new file with similar name, and when you gonna pastle it in the folder for the game, you need to delete the number 1 from the name.\n",
    "\n",
    "**So from main1.bundle.js will be main.bundle.js as its that name what the game gonna try to charge and use.**\n",
    "\n",
    "**Again try to not touch this**"
   ]
  },
  {
   "cell_type": "code",
   "execution_count": 14,
   "id": "17fd092a",
   "metadata": {},
   "outputs": [
    {
     "name": "stdout",
     "output_type": "stream",
     "text": [
      "done\n"
     ]
    }
   ],
   "source": [
    "#Main Bundle\n",
    "text_file = open(\"main1.bundle.js\", \"w\",encoding=\"utf8\")\n",
    "text_file.write(f)\n",
    "text_file.close()\n",
    "fileMain.close()\n",
    "print(\"done\")"
   ]
  },
  {
   "cell_type": "code",
   "execution_count": 15,
   "id": "706eaab5",
   "metadata": {},
   "outputs": [
    {
     "name": "stdout",
     "output_type": "stream",
     "text": [
      "done\n"
     ]
    }
   ],
   "source": [
    "#Save Data\n",
    "text_file = open(\"SaveData1.sav\", \"w\",encoding=\"utf8\")\n",
    "text_file.write(fd)\n",
    "text_file.close()\n",
    "fileData.close()\n",
    "print(\"done\")"
   ]
  },
  {
   "cell_type": "code",
   "execution_count": null,
   "id": "013f4363",
   "metadata": {},
   "outputs": [],
   "source": []
  }
 ],
 "metadata": {
  "kernelspec": {
   "display_name": "Python 3.10.6 64-bit (windows store)",
   "language": "python",
   "name": "python3"
  },
  "language_info": {
   "codemirror_mode": {
    "name": "ipython",
    "version": 3
   },
   "file_extension": ".py",
   "mimetype": "text/x-python",
   "name": "python",
   "nbconvert_exporter": "python",
   "pygments_lexer": "ipython3",
   "version": "3.10.6"
  },
  "vscode": {
   "interpreter": {
    "hash": "4a8b63edea9ab51ee6c89f4cc19659c08d3bb4e44dc4a522ebc41e3ceb566913"
   }
  }
 },
 "nbformat": 4,
 "nbformat_minor": 5
}
