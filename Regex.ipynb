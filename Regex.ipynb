{
 "cells": [
  {
   "cell_type": "markdown",
   "id": "11aac36f",
   "metadata": {},
   "source": [
    "# Modifying the Data of Vampire Survivor in Python."
   ]
  },
  {
   "cell_type": "markdown",
   "id": "31e27594",
   "metadata": {},
   "source": [
    "So, this wee proyect is basically to practice regex. That we gonna do is basically use the file called main.bundle.js, and sustitute it from our own file....with... some changes.\n",
    "\n",
    "Anyway in the folder of the proyect you will have my save, if you wanna use yours just pastle your file where is mine, and run this program, after it, you should be fine.\n",
    "\n",
    "**Path:**\"C:\\Program Files (x86)\\Steam\\steamapps\\common\\Vampire Survivors\\resources\\app\\.webpack\\renderer\\main.bundle.js\""
   ]
  },
  {
   "cell_type": "markdown",
   "id": "33ac3446",
   "metadata": {},
   "source": [
    "### Importing Libraries, Open and Read the File.\n",
    "**You dont need to touch this**"
   ]
  },
  {
   "cell_type": "code",
   "execution_count": 539,
   "id": "a26fc1d1",
   "metadata": {},
   "outputs": [],
   "source": [
    "import pandas as pd\n",
    "import re\n",
    "\n",
    "file= open(\"main.bundle.js\",\"r\",encoding=\"utf8\")\n",
    "f=file.read()"
   ]
  },
  {
   "cell_type": "markdown",
   "id": "f54a081d",
   "metadata": {},
   "source": [
    "### Fetching The Stats of Each Champ, and Cleaning the Data.\n",
    "\n",
    "We do this throw a loop using the index as a marker to just keep what we need from the text, and we gonna do the same with the names.\n",
    "That will give us the keys and the values for the dictionary.\n",
    "\n",
    "**Don't touch this**"
   ]
  },
  {
   "cell_type": "code",
   "execution_count": 535,
   "id": "fa8f422c",
   "metadata": {},
   "outputs": [
    {
     "name": "stdout",
     "output_type": "stream",
     "text": [
      "we have 38 Champions Stats\n",
      "we have 38 Champions Names\n"
     ]
    }
   ],
   "source": [
    "ChampionStats=re.findall(r\"(?:\\'completedStages\\':\\[\\])(.{800})\",f)\n",
    "ChampionNames=re.findall(r\"\\'charName\\':\\'([A-Za-z]*\\s*[A-Za-z]*|O\\\\'Sole)(.{990})\",f)\n",
    "\n",
    "print(f\"we have {len(ChampionStats)} Champions Stats\")\n",
    "print(f\"we have {len(ChampionNames)} Champions Names\")"
   ]
  },
  {
   "cell_type": "code",
   "execution_count": 536,
   "id": "d070024c",
   "metadata": {},
   "outputs": [],
   "source": [
    "dit={}\n",
    "\n",
    "# we clean a bit the dirty data we had.\n",
    "for n,champ in enumerate(ChampionStats):\n",
    "    ChampionStats[n]=ChampionStats[n][ChampionStats[n].index(\"maxHp\"):ChampionStats[n].index(\"'banish'\")+12]\n",
    "\n",
    "    # We introduce the data to the dict using zip and a loop.\n",
    "for name,champs in zip(names,ChampionStats):\n",
    "    dit[name]=champs"
   ]
  },
  {
   "cell_type": "code",
   "execution_count": 534,
   "id": "745ee277",
   "metadata": {},
   "outputs": [],
   "source": [
    "# len(dit),dit we check that everything is right, is 38 champs in the game and everything looks okey."
   ]
  },
  {
   "cell_type": "markdown",
   "id": "ef54b614",
   "metadata": {},
   "source": [
    "### Basic Stats Modifier\n",
    "\n"
   ]
  },
  {
   "cell_type": "markdown",
   "id": "84dc0597",
   "metadata": {},
   "source": [
    "**This work by introducing the super hero stats in the place where is our Champion, in this case as a trial we choose poe.**\n",
    "\n",
    "- First of all explain that this stats are showing in Hex so that you need to modify it's after the 0x\n",
    "- Second as i say before is Hex and not decimal, so you gonna need a calculator if you wanna know what exact number you gonna     introduce there, but also you can eyeball it.\n",
    "- Third if you change anything in a character remember always that for change it again you gonna need to use again a clean file, \n",
    "  this is a bit logical as what we are doing its find the stats of poe and modify them, if you already have change them, not       gonna be the same that we are expecting. So to evade errors i let this as you need to use always a new file.\n",
    "  \n",
    " **You should touch this**"
   ]
  },
  {
   "cell_type": "code",
   "execution_count": 542,
   "id": "ff49e6bf",
   "metadata": {},
   "outputs": [],
   "source": [
    "# You can modify here the hero stats\n",
    "Super_Hero={\"hero\":\"maxHp':0x300,'armor':0x10,'regen':0x0,'moveSpeed':0x3,'power':0x1,'cooldown':0x1,'area':0x5,'speed':0x1,'duration':0x1,'amount':0x0,'luck':0x10,'growth':0x5,'greed':0x1,'curse':0x1,'magnet':0x3,'revivals':0x0,'rerolls':0x0,'skips':0x0,'banish':0x0\"}\n",
    "\n",
    "f=f.replace(dit[\"Poe\"], Super_Hero[\"hero\"])\n"
   ]
  },
  {
   "cell_type": "code",
   "execution_count": 541,
   "id": "620ba3d0",
   "metadata": {},
   "outputs": [],
   "source": [
    "# re.findall(r\"\\'charName\\':\\'Poe'.{800}\",f) untag this part to check if everything is save right."
   ]
  },
  {
   "cell_type": "code",
   "execution_count": null,
   "id": "374d5258",
   "metadata": {},
   "outputs": [],
   "source": []
  },
  {
   "cell_type": "markdown",
   "id": "80969d29",
   "metadata": {},
   "source": [
    "### Storage"
   ]
  },
  {
   "cell_type": "markdown",
   "id": "4541da23",
   "metadata": {},
   "source": [
    "**In this case my plan is simple, i have always a clean file in the folder to read it, and a file that come out with the modification, so if i destroy anything i can just create a new file or use the oldone.**\n",
    "\n",
    "As you can see is same name, and encoding, the way to use is, whenever you run this last code, you gonna create a new file with similar name, and when you gonna pastle it in the folder for the game, you need to delete the number 1 from the name.\n",
    "\n",
    "**So from main1.bundle.js will be main.bundle.js as its that name what the game gonna try to charge and use.**\n",
    "\n",
    "**Again try to not touch this**"
   ]
  },
  {
   "cell_type": "code",
   "execution_count": 533,
   "id": "17fd092a",
   "metadata": {},
   "outputs": [],
   "source": [
    "text_file = open(\"main1.bundle.js\", \"w\",encoding=\"utf8\")\n",
    "text_file.write(f)\n",
    "text_file.close()"
   ]
  },
  {
   "cell_type": "code",
   "execution_count": null,
   "id": "706eaab5",
   "metadata": {},
   "outputs": [],
   "source": []
  }
 ],
 "metadata": {
  "kernelspec": {
   "display_name": "Python 3 (ipykernel)",
   "language": "python",
   "name": "python3"
  },
  "language_info": {
   "codemirror_mode": {
    "name": "ipython",
    "version": 3
   },
   "file_extension": ".py",
   "mimetype": "text/x-python",
   "name": "python",
   "nbconvert_exporter": "python",
   "pygments_lexer": "ipython3",
   "version": "3.9.12"
  }
 },
 "nbformat": 4,
 "nbformat_minor": 5
}
